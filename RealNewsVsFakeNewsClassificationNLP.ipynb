{
 "cells": [
  {
   "cell_type": "markdown",
   "id": "186ccdbd",
   "metadata": {},
   "source": [
    "## Real News Vs Fake News Classification"
   ]
  },
  {
   "cell_type": "code",
   "execution_count": 1,
   "id": "f6920ba6",
   "metadata": {},
   "outputs": [
    {
     "name": "stderr",
     "output_type": "stream",
     "text": [
      "<frozen importlib._bootstrap>:228: RuntimeWarning: scipy._lib.messagestream.MessageStream size changed, may indicate binary incompatibility. Expected 56 from C header, got 64 from PyObject\n"
     ]
    }
   ],
   "source": [
    "import nltk\n",
    "import pandas as pd\n",
    "import numpy as np\n",
    "import re\n",
    "import string\n",
    "import seaborn as sns\n",
    "import matplotlib.pyplot as plt "
   ]
  },
  {
   "cell_type": "raw",
   "id": "e1768f07",
   "metadata": {},
   "source": [
    "Dataset contains four columns: Serial number (starting from 0); Title (about the text news heading); Text (about the news content); and Label (0 = fake and 1 = real)."
   ]
  },
  {
   "cell_type": "markdown",
   "id": "72b64b86",
   "metadata": {},
   "source": [
    "### Fake or Real News dataset loading"
   ]
  },
  {
   "cell_type": "code",
   "execution_count": 2,
   "id": "947060b8",
   "metadata": {},
   "outputs": [
    {
     "data": {
      "text/html": [
       "<div>\n",
       "<style scoped>\n",
       "    .dataframe tbody tr th:only-of-type {\n",
       "        vertical-align: middle;\n",
       "    }\n",
       "\n",
       "    .dataframe tbody tr th {\n",
       "        vertical-align: top;\n",
       "    }\n",
       "\n",
       "    .dataframe thead th {\n",
       "        text-align: right;\n",
       "    }\n",
       "</style>\n",
       "<table border=\"1\" class=\"dataframe\">\n",
       "  <thead>\n",
       "    <tr style=\"text-align: right;\">\n",
       "      <th></th>\n",
       "      <th>sn</th>\n",
       "      <th>title</th>\n",
       "      <th>text</th>\n",
       "      <th>label</th>\n",
       "    </tr>\n",
       "  </thead>\n",
       "  <tbody>\n",
       "    <tr>\n",
       "      <th>0</th>\n",
       "      <td>1</td>\n",
       "      <td>LAW ENFORCEMENT ON HIGH ALERT Following Threat...</td>\n",
       "      <td>No comment is expected from Barack Obama Membe...</td>\n",
       "      <td>1</td>\n",
       "    </tr>\n",
       "    <tr>\n",
       "      <th>1</th>\n",
       "      <td>2</td>\n",
       "      <td>NaN</td>\n",
       "      <td>Did they post their votes for Hillary already?</td>\n",
       "      <td>1</td>\n",
       "    </tr>\n",
       "    <tr>\n",
       "      <th>2</th>\n",
       "      <td>3</td>\n",
       "      <td>UNBELIEVABLE! OBAMA’S ATTORNEY GENERAL SAYS MO...</td>\n",
       "      <td>Now, most of the demonstrators gathered last ...</td>\n",
       "      <td>1</td>\n",
       "    </tr>\n",
       "    <tr>\n",
       "      <th>3</th>\n",
       "      <td>4</td>\n",
       "      <td>Bobby Jindal, raised Hindu, uses story of Chri...</td>\n",
       "      <td>A dozen politically active pastors came here f...</td>\n",
       "      <td>0</td>\n",
       "    </tr>\n",
       "    <tr>\n",
       "      <th>4</th>\n",
       "      <td>5</td>\n",
       "      <td>SATAN 2: Russia unvelis an image of its terrif...</td>\n",
       "      <td>The RS-28 Sarmat missile, dubbed Satan 2, will...</td>\n",
       "      <td>1</td>\n",
       "    </tr>\n",
       "    <tr>\n",
       "      <th>...</th>\n",
       "      <td>...</td>\n",
       "      <td>...</td>\n",
       "      <td>...</td>\n",
       "      <td>...</td>\n",
       "    </tr>\n",
       "    <tr>\n",
       "      <th>1271</th>\n",
       "      <td>1272</td>\n",
       "      <td>Here’s The One Thing That Scares Trump And Hi...</td>\n",
       "      <td>We are all aware by now of Donald Trump s raci...</td>\n",
       "      <td>1</td>\n",
       "    </tr>\n",
       "    <tr>\n",
       "      <th>1272</th>\n",
       "      <td>1273</td>\n",
       "      <td>How a U.S. Airstrike Missed ISIS, but Damaged ...</td>\n",
       "      <td>WASHINGTON  —   The United States’ accidental ...</td>\n",
       "      <td>0</td>\n",
       "    </tr>\n",
       "    <tr>\n",
       "      <th>1273</th>\n",
       "      <td>1274</td>\n",
       "      <td>James Turk – What Donald Trump Faces Is Very D...</td>\n",
       "      <td>55   King World News \\nAs we kick off the thir...</td>\n",
       "      <td>1</td>\n",
       "    </tr>\n",
       "    <tr>\n",
       "      <th>1274</th>\n",
       "      <td>1275</td>\n",
       "      <td>BREAKING : HOAX “RAPE LAWSUIT” AGAINST TRUMP I...</td>\n",
       "      <td>BREAKING : HOAX “RAPE LAWSUIT” AGAINST TRUMP I...</td>\n",
       "      <td>1</td>\n",
       "    </tr>\n",
       "    <tr>\n",
       "      <th>1275</th>\n",
       "      <td>1276</td>\n",
       "      <td>Alabama's Top Judge Faces Ethics Charges Over ...</td>\n",
       "      <td>The Alabama Judicial Inquiry Commission charge...</td>\n",
       "      <td>0</td>\n",
       "    </tr>\n",
       "  </tbody>\n",
       "</table>\n",
       "<p>1276 rows × 4 columns</p>\n",
       "</div>"
      ],
      "text/plain": [
       "        sn                                              title  \\\n",
       "0        1  LAW ENFORCEMENT ON HIGH ALERT Following Threat...   \n",
       "1        2                                                NaN   \n",
       "2        3  UNBELIEVABLE! OBAMA’S ATTORNEY GENERAL SAYS MO...   \n",
       "3        4  Bobby Jindal, raised Hindu, uses story of Chri...   \n",
       "4        5  SATAN 2: Russia unvelis an image of its terrif...   \n",
       "...    ...                                                ...   \n",
       "1271  1272   Here’s The One Thing That Scares Trump And Hi...   \n",
       "1272  1273  How a U.S. Airstrike Missed ISIS, but Damaged ...   \n",
       "1273  1274  James Turk – What Donald Trump Faces Is Very D...   \n",
       "1274  1275  BREAKING : HOAX “RAPE LAWSUIT” AGAINST TRUMP I...   \n",
       "1275  1276  Alabama's Top Judge Faces Ethics Charges Over ...   \n",
       "\n",
       "                                                   text  label  \n",
       "0     No comment is expected from Barack Obama Membe...      1  \n",
       "1        Did they post their votes for Hillary already?      1  \n",
       "2      Now, most of the demonstrators gathered last ...      1  \n",
       "3     A dozen politically active pastors came here f...      0  \n",
       "4     The RS-28 Sarmat missile, dubbed Satan 2, will...      1  \n",
       "...                                                 ...    ...  \n",
       "1271  We are all aware by now of Donald Trump s raci...      1  \n",
       "1272  WASHINGTON  —   The United States’ accidental ...      0  \n",
       "1273  55   King World News \\nAs we kick off the thir...      1  \n",
       "1274  BREAKING : HOAX “RAPE LAWSUIT” AGAINST TRUMP I...      1  \n",
       "1275  The Alabama Judicial Inquiry Commission charge...      0  \n",
       "\n",
       "[1276 rows x 4 columns]"
      ]
     },
     "execution_count": 2,
     "metadata": {},
     "output_type": "execute_result"
    }
   ],
   "source": [
    "data = pd.read_csv('Fake Real News.csv')\n",
    "data"
   ]
  },
  {
   "cell_type": "markdown",
   "id": "dc70e766",
   "metadata": {},
   "source": [
    "### Handling NULL values in the dataset"
   ]
  },
  {
   "cell_type": "code",
   "execution_count": 3,
   "id": "6dc0f239",
   "metadata": {},
   "outputs": [
    {
     "data": {
      "text/plain": [
       "sn       0\n",
       "title    8\n",
       "text     0\n",
       "label    0\n",
       "dtype: int64"
      ]
     },
     "execution_count": 3,
     "metadata": {},
     "output_type": "execute_result"
    }
   ],
   "source": [
    "data.isnull().sum()"
   ]
  },
  {
   "cell_type": "code",
   "execution_count": 4,
   "id": "fd22d0fe",
   "metadata": {},
   "outputs": [],
   "source": [
    "data = data.dropna()"
   ]
  },
  {
   "cell_type": "code",
   "execution_count": 5,
   "id": "062ab21c",
   "metadata": {},
   "outputs": [
    {
     "data": {
      "text/plain": [
       "sn       0\n",
       "title    0\n",
       "text     0\n",
       "label    0\n",
       "dtype: int64"
      ]
     },
     "execution_count": 5,
     "metadata": {},
     "output_type": "execute_result"
    }
   ],
   "source": [
    "data.isnull().sum()"
   ]
  },
  {
   "cell_type": "code",
   "execution_count": 6,
   "id": "36c8d9dd",
   "metadata": {},
   "outputs": [
    {
     "data": {
      "text/plain": [
       "((1268,), (1268,), (1268,))"
      ]
     },
     "execution_count": 6,
     "metadata": {},
     "output_type": "execute_result"
    }
   ],
   "source": [
    "data['title'].shape, data['text'].shape ,data['label'].shape"
   ]
  },
  {
   "cell_type": "code",
   "execution_count": 7,
   "id": "e28b6943",
   "metadata": {},
   "outputs": [
    {
     "data": {
      "text/plain": [
       "1    672\n",
       "0    596\n",
       "Name: label, dtype: int64"
      ]
     },
     "execution_count": 7,
     "metadata": {},
     "output_type": "execute_result"
    }
   ],
   "source": [
    "data['label'].value_counts()"
   ]
  },
  {
   "cell_type": "code",
   "execution_count": 8,
   "id": "dbbc0fef",
   "metadata": {},
   "outputs": [
    {
     "data": {
      "text/plain": [
       "<AxesSubplot:xlabel='label', ylabel='count'>"
      ]
     },
     "execution_count": 8,
     "metadata": {},
     "output_type": "execute_result"
    },
    {
     "data": {
      "image/png": "[encoded data removed]",
      "text/plain": [
       "<Figure size 576x576 with 1 Axes>"
      ]
     },
     "metadata": {
      "needs_background": "light"
     },
     "output_type": "display_data"
    }
   ],
   "source": [
    "# plot the number of samples per class\n",
    "plt.figure(figsize=(8,8))\n",
    "sns.countplot(x=\"label\", data=data)"
   ]
  },
  {
   "cell_type": "markdown",
   "id": "3ae011da",
   "metadata": {},
   "source": [
    "#### Merging the columns (title, text) into one column (say tags)"
   ]
  },
  {
   "cell_type": "code",
   "execution_count": 9,
   "id": "a8666421",
   "metadata": {},
   "outputs": [
    {
     "name": "stderr",
     "output_type": "stream",
     "text": [
      "C:\\Users\\Arjyel\\AppData\\Local\\Temp\\ipykernel_24364\\3536953010.py:1: SettingWithCopyWarning: \n",
      "A value is trying to be set on a copy of a slice from a DataFrame.\n",
      "Try using .loc[row_indexer,col_indexer] = value instead\n",
      "\n",
      "See the caveats in the documentation: https://pandas.pydata.org/pandas-docs/stable/user_guide/indexing.html#returning-a-view-versus-a-copy\n",
      "  data['tags']=data['title']+ data['text']\n"
     ]
    },
    {
     "data": {
      "text/plain": [
       "0       LAW ENFORCEMENT ON HIGH ALERT Following Threat...\n",
       "2       UNBELIEVABLE! OBAMA’S ATTORNEY GENERAL SAYS MO...\n",
       "3       Bobby Jindal, raised Hindu, uses story of Chri...\n",
       "4       SATAN 2: Russia unvelis an image of its terrif...\n",
       "5       About Time! Christian Group Sues Amazon and SP...\n",
       "                              ...                        \n",
       "1271     Here’s The One Thing That Scares Trump And Hi...\n",
       "1272    How a U.S. Airstrike Missed ISIS, but Damaged ...\n",
       "1273    James Turk – What Donald Trump Faces Is Very D...\n",
       "1274    BREAKING : HOAX “RAPE LAWSUIT” AGAINST TRUMP I...\n",
       "1275    Alabama's Top Judge Faces Ethics Charges Over ...\n",
       "Name: tags, Length: 1268, dtype: object"
      ]
     },
     "execution_count": 9,
     "metadata": {},
     "output_type": "execute_result"
    }
   ],
   "source": [
    "data['tags']=data['title']+ data['text']\n",
    "data['tags']"
   ]
  },
  {
   "cell_type": "code",
   "execution_count": 10,
   "id": "2f305244",
   "metadata": {},
   "outputs": [
    {
     "data": {
      "text/plain": [
       "((1268,), (1268,))"
      ]
     },
     "execution_count": 10,
     "metadata": {},
     "output_type": "execute_result"
    }
   ],
   "source": [
    "data['tags'].shape ,data['label'].shape"
   ]
  },
  {
   "cell_type": "code",
   "execution_count": 11,
   "id": "79f8808f",
   "metadata": {},
   "outputs": [
    {
     "data": {
      "text/html": [
       "<div>\n",
       "<style scoped>\n",
       "    .dataframe tbody tr th:only-of-type {\n",
       "        vertical-align: middle;\n",
       "    }\n",
       "\n",
       "    .dataframe tbody tr th {\n",
       "        vertical-align: top;\n",
       "    }\n",
       "\n",
       "    .dataframe thead th {\n",
       "        text-align: right;\n",
       "    }\n",
       "</style>\n",
       "<table border=\"1\" class=\"dataframe\">\n",
       "  <thead>\n",
       "    <tr style=\"text-align: right;\">\n",
       "      <th></th>\n",
       "      <th>sn</th>\n",
       "      <th>title</th>\n",
       "      <th>text</th>\n",
       "      <th>label</th>\n",
       "      <th>tags</th>\n",
       "    </tr>\n",
       "  </thead>\n",
       "  <tbody>\n",
       "    <tr>\n",
       "      <th>0</th>\n",
       "      <td>1</td>\n",
       "      <td>LAW ENFORCEMENT ON HIGH ALERT Following Threat...</td>\n",
       "      <td>No comment is expected from Barack Obama Membe...</td>\n",
       "      <td>1</td>\n",
       "      <td>LAW ENFORCEMENT ON HIGH ALERT Following Threat...</td>\n",
       "    </tr>\n",
       "    <tr>\n",
       "      <th>2</th>\n",
       "      <td>3</td>\n",
       "      <td>UNBELIEVABLE! OBAMA’S ATTORNEY GENERAL SAYS MO...</td>\n",
       "      <td>Now, most of the demonstrators gathered last ...</td>\n",
       "      <td>1</td>\n",
       "      <td>UNBELIEVABLE! OBAMA’S ATTORNEY GENERAL SAYS MO...</td>\n",
       "    </tr>\n",
       "    <tr>\n",
       "      <th>3</th>\n",
       "      <td>4</td>\n",
       "      <td>Bobby Jindal, raised Hindu, uses story of Chri...</td>\n",
       "      <td>A dozen politically active pastors came here f...</td>\n",
       "      <td>0</td>\n",
       "      <td>Bobby Jindal, raised Hindu, uses story of Chri...</td>\n",
       "    </tr>\n",
       "    <tr>\n",
       "      <th>4</th>\n",
       "      <td>5</td>\n",
       "      <td>SATAN 2: Russia unvelis an image of its terrif...</td>\n",
       "      <td>The RS-28 Sarmat missile, dubbed Satan 2, will...</td>\n",
       "      <td>1</td>\n",
       "      <td>SATAN 2: Russia unvelis an image of its terrif...</td>\n",
       "    </tr>\n",
       "    <tr>\n",
       "      <th>5</th>\n",
       "      <td>6</td>\n",
       "      <td>About Time! Christian Group Sues Amazon and SP...</td>\n",
       "      <td>All we can say on this one is it s about time ...</td>\n",
       "      <td>1</td>\n",
       "      <td>About Time! Christian Group Sues Amazon and SP...</td>\n",
       "    </tr>\n",
       "    <tr>\n",
       "      <th>...</th>\n",
       "      <td>...</td>\n",
       "      <td>...</td>\n",
       "      <td>...</td>\n",
       "      <td>...</td>\n",
       "      <td>...</td>\n",
       "    </tr>\n",
       "    <tr>\n",
       "      <th>1271</th>\n",
       "      <td>1272</td>\n",
       "      <td>Here’s The One Thing That Scares Trump And Hi...</td>\n",
       "      <td>We are all aware by now of Donald Trump s raci...</td>\n",
       "      <td>1</td>\n",
       "      <td>Here’s The One Thing That Scares Trump And Hi...</td>\n",
       "    </tr>\n",
       "    <tr>\n",
       "      <th>1272</th>\n",
       "      <td>1273</td>\n",
       "      <td>How a U.S. Airstrike Missed ISIS, but Damaged ...</td>\n",
       "      <td>WASHINGTON  —   The United States’ accidental ...</td>\n",
       "      <td>0</td>\n",
       "      <td>How a U.S. Airstrike Missed ISIS, but Damaged ...</td>\n",
       "    </tr>\n",
       "    <tr>\n",
       "      <th>1273</th>\n",
       "      <td>1274</td>\n",
       "      <td>James Turk – What Donald Trump Faces Is Very D...</td>\n",
       "      <td>55   King World News \\nAs we kick off the thir...</td>\n",
       "      <td>1</td>\n",
       "      <td>James Turk – What Donald Trump Faces Is Very D...</td>\n",
       "    </tr>\n",
       "    <tr>\n",
       "      <th>1274</th>\n",
       "      <td>1275</td>\n",
       "      <td>BREAKING : HOAX “RAPE LAWSUIT” AGAINST TRUMP I...</td>\n",
       "      <td>BREAKING : HOAX “RAPE LAWSUIT” AGAINST TRUMP I...</td>\n",
       "      <td>1</td>\n",
       "      <td>BREAKING : HOAX “RAPE LAWSUIT” AGAINST TRUMP I...</td>\n",
       "    </tr>\n",
       "    <tr>\n",
       "      <th>1275</th>\n",
       "      <td>1276</td>\n",
       "      <td>Alabama's Top Judge Faces Ethics Charges Over ...</td>\n",
       "      <td>The Alabama Judicial Inquiry Commission charge...</td>\n",
       "      <td>0</td>\n",
       "      <td>Alabama's Top Judge Faces Ethics Charges Over ...</td>\n",
       "    </tr>\n",
       "  </tbody>\n",
       "</table>\n",
       "<p>1268 rows × 5 columns</p>\n",
       "</div>"
      ],
      "text/plain": [
       "        sn                                              title  \\\n",
       "0        1  LAW ENFORCEMENT ON HIGH ALERT Following Threat...   \n",
       "2        3  UNBELIEVABLE! OBAMA’S ATTORNEY GENERAL SAYS MO...   \n",
       "3        4  Bobby Jindal, raised Hindu, uses story of Chri...   \n",
       "4        5  SATAN 2: Russia unvelis an image of its terrif...   \n",
       "5        6  About Time! Christian Group Sues Amazon and SP...   \n",
       "...    ...                                                ...   \n",
       "1271  1272   Here’s The One Thing That Scares Trump And Hi...   \n",
       "1272  1273  How a U.S. Airstrike Missed ISIS, but Damaged ...   \n",
       "1273  1274  James Turk – What Donald Trump Faces Is Very D...   \n",
       "1274  1275  BREAKING : HOAX “RAPE LAWSUIT” AGAINST TRUMP I...   \n",
       "1275  1276  Alabama's Top Judge Faces Ethics Charges Over ...   \n",
       "\n",
       "                                                   text  label  \\\n",
       "0     No comment is expected from Barack Obama Membe...      1   \n",
       "2      Now, most of the demonstrators gathered last ...      1   \n",
       "3     A dozen politically active pastors came here f...      0   \n",
       "4     The RS-28 Sarmat missile, dubbed Satan 2, will...      1   \n",
       "5     All we can say on this one is it s about time ...      1   \n",
       "...                                                 ...    ...   \n",
       "1271  We are all aware by now of Donald Trump s raci...      1   \n",
       "1272  WASHINGTON  —   The United States’ accidental ...      0   \n",
       "1273  55   King World News \\nAs we kick off the thir...      1   \n",
       "1274  BREAKING : HOAX “RAPE LAWSUIT” AGAINST TRUMP I...      1   \n",
       "1275  The Alabama Judicial Inquiry Commission charge...      0   \n",
       "\n",
       "                                                   tags  \n",
       "0     LAW ENFORCEMENT ON HIGH ALERT Following Threat...  \n",
       "2     UNBELIEVABLE! OBAMA’S ATTORNEY GENERAL SAYS MO...  \n",
       "3     Bobby Jindal, raised Hindu, uses story of Chri...  \n",
       "4     SATAN 2: Russia unvelis an image of its terrif...  \n",
       "5     About Time! Christian Group Sues Amazon and SP...  \n",
       "...                                                 ...  \n",
       "1271   Here’s The One Thing That Scares Trump And Hi...  \n",
       "1272  How a U.S. Airstrike Missed ISIS, but Damaged ...  \n",
       "1273  James Turk – What Donald Trump Faces Is Very D...  \n",
       "1274  BREAKING : HOAX “RAPE LAWSUIT” AGAINST TRUMP I...  \n",
       "1275  Alabama's Top Judge Faces Ethics Charges Over ...  \n",
       "\n",
       "[1268 rows x 5 columns]"
      ]
     },
     "execution_count": 11,
     "metadata": {},
     "output_type": "execute_result"
    }
   ],
   "source": [
    "data"
   ]
  },
  {
   "cell_type": "code",
   "execution_count": 12,
   "id": "f9163d66",
   "metadata": {},
   "outputs": [
    {
     "name": "stdout",
     "output_type": "stream",
     "text": [
      "the 40370\n",
      "to 20617\n",
      "of 17975\n",
      "and 16784\n",
      "in 13509\n",
      "that 9312\n",
      "for 6759\n",
      "on 6701\n",
      "is 6700\n",
      "it 5442\n",
      "he 4567\n",
      "with 4552\n",
      "as 4462\n",
      "was 4362\n",
      "trump 4140\n",
      "said 4020\n",
      "by 3652\n",
      "his 3420\n",
      "be 3209\n",
      "at 3179\n"
     ]
    },
    {
     "data": {
      "text/plain": [
       "<AxesSubplot:title={'center':'Top 20 words in dataset which are maximum stop words'}, xlabel='tags'>"
      ]
     },
     "execution_count": 12,
     "metadata": {},
     "output_type": "execute_result"
    },
    {
     "data": {
      "image/png": "[encoded data removed]",
      "text/plain": [
       "<Figure size 432x288 with 1 Axes>"
      ]
     },
     "metadata": {
      "needs_background": "light"
     },
     "output_type": "display_data"
    }
   ],
   "source": [
    "from sklearn.feature_extraction.text import CountVectorizer\n",
    "def get_top_n_words(corpus, n=None):\n",
    "    vec = CountVectorizer().fit(corpus)\n",
    "    bag_of_words = vec.transform(corpus)\n",
    "    sum_words = bag_of_words.sum(axis=0) \n",
    "    words_freq = [(word, sum_words[0, idx]) for word, idx in vec.vocabulary_.items()]\n",
    "    words_freq =sorted(words_freq, key = lambda x: x[1], reverse=True)\n",
    "    return words_freq[:n]\n",
    "common_words = get_top_n_words(data['tags'], 20)\n",
    "for word, freq in common_words:\n",
    "    print(word, freq)\n",
    "df1 = pd.DataFrame(common_words, columns = ['tags' , 'count'])\n",
    "df1.groupby('tags').sum()['count'].sort_values(ascending=False).plot(\n",
    "kind='bar', title='Top 20 words in dataset which are maximum stop words',color=['slateblue', 'blueviolet', 'violet', 'orchid', 'lightpink'])"
   ]
  },
  {
   "cell_type": "markdown",
   "id": "e1ab9a06",
   "metadata": {},
   "source": [
    "### Cleaning and Preprocessing\n",
    "Removing of punctuation, stopwords and performing word tokenization, stemming and lemmatization"
   ]
  },
  {
   "cell_type": "code",
   "execution_count": 13,
   "id": "ae7b1adf",
   "metadata": {},
   "outputs": [],
   "source": [
    "import nltk\n",
    "stopwords = nltk.corpus.stopwords.words('english')\n",
    "wn = nltk.WordNetLemmatizer()\n",
    "ps = nltk.PorterStemmer()\n",
    "\n",
    "def clean_text(text):\n",
    "    text = \"\".join([word.lower() for word in text if word not in string.punctuation])\n",
    "    tokens = re.split('\\W+', text)\n",
    "    text = [wn.lemmatize(ps.stem((word))) for word in tokens if word not in stopwords]\n",
    "    return text"
   ]
  },
  {
   "cell_type": "code",
   "execution_count": 14,
   "id": "fd9a89fd",
   "metadata": {},
   "outputs": [
    {
     "name": "stderr",
     "output_type": "stream",
     "text": [
      "C:\\Users\\Arjyel\\AppData\\Local\\Temp\\ipykernel_24364\\727531360.py:1: SettingWithCopyWarning: \n",
      "A value is trying to be set on a copy of a slice from a DataFrame.\n",
      "Try using .loc[row_indexer,col_indexer] = value instead\n",
      "\n",
      "See the caveats in the documentation: https://pandas.pydata.org/pandas-docs/stable/user_guide/indexing.html#returning-a-view-versus-a-copy\n",
      "  data['tags'] = data['tags'].apply(clean_text)\n"
     ]
    },
    {
     "data": {
      "text/plain": [
       "0       [law, enforc, high, alert, follow, threat, cop...\n",
       "2       [unbeliev, obama, attorney, gener, say, charlo...\n",
       "3       [bobbi, jindal, rais, hindu, use, stori, chris...\n",
       "4       [satan, 2, russia, unv, imag, terrifi, new, su...\n",
       "5       [time, christian, group, sue, amazon, splc, de...\n",
       "                              ...                        \n",
       "1271    [, one, thing, scare, trump, racist, follow, v...\n",
       "1272    [u, airstrik, miss, isi, damag, u, polici, syr...\n",
       "1273    [jame, turk, donald, trump, face, differ, rona...\n",
       "1274    [break, hoax, rape, lawsuit, trump, drop, trut...\n",
       "1275    [alabama, top, judg, face, ethic, charg, gayma...\n",
       "Name: tags, Length: 1268, dtype: object"
      ]
     },
     "execution_count": 14,
     "metadata": {},
     "output_type": "execute_result"
    }
   ],
   "source": [
    "data['tags'] = data['tags'].apply(clean_text)\n",
    "data['tags'] "
   ]
  },
  {
   "cell_type": "code",
   "execution_count": 15,
   "id": "5bb7b6fe",
   "metadata": {},
   "outputs": [
    {
     "data": {
      "text/html": [
       "<div>\n",
       "<style scoped>\n",
       "    .dataframe tbody tr th:only-of-type {\n",
       "        vertical-align: middle;\n",
       "    }\n",
       "\n",
       "    .dataframe tbody tr th {\n",
       "        vertical-align: top;\n",
       "    }\n",
       "\n",
       "    .dataframe thead th {\n",
       "        text-align: right;\n",
       "    }\n",
       "</style>\n",
       "<table border=\"1\" class=\"dataframe\">\n",
       "  <thead>\n",
       "    <tr style=\"text-align: right;\">\n",
       "      <th></th>\n",
       "      <th>tags</th>\n",
       "      <th>label</th>\n",
       "    </tr>\n",
       "  </thead>\n",
       "  <tbody>\n",
       "    <tr>\n",
       "      <th>0</th>\n",
       "      <td>[law, enforc, high, alert, follow, threat, cop...</td>\n",
       "      <td>1</td>\n",
       "    </tr>\n",
       "    <tr>\n",
       "      <th>2</th>\n",
       "      <td>[unbeliev, obama, attorney, gener, say, charlo...</td>\n",
       "      <td>1</td>\n",
       "    </tr>\n",
       "    <tr>\n",
       "      <th>3</th>\n",
       "      <td>[bobbi, jindal, rais, hindu, use, stori, chris...</td>\n",
       "      <td>0</td>\n",
       "    </tr>\n",
       "    <tr>\n",
       "      <th>4</th>\n",
       "      <td>[satan, 2, russia, unv, imag, terrifi, new, su...</td>\n",
       "      <td>1</td>\n",
       "    </tr>\n",
       "    <tr>\n",
       "      <th>5</th>\n",
       "      <td>[time, christian, group, sue, amazon, splc, de...</td>\n",
       "      <td>1</td>\n",
       "    </tr>\n",
       "    <tr>\n",
       "      <th>...</th>\n",
       "      <td>...</td>\n",
       "      <td>...</td>\n",
       "    </tr>\n",
       "    <tr>\n",
       "      <th>1271</th>\n",
       "      <td>[, one, thing, scare, trump, racist, follow, v...</td>\n",
       "      <td>1</td>\n",
       "    </tr>\n",
       "    <tr>\n",
       "      <th>1272</th>\n",
       "      <td>[u, airstrik, miss, isi, damag, u, polici, syr...</td>\n",
       "      <td>0</td>\n",
       "    </tr>\n",
       "    <tr>\n",
       "      <th>1273</th>\n",
       "      <td>[jame, turk, donald, trump, face, differ, rona...</td>\n",
       "      <td>1</td>\n",
       "    </tr>\n",
       "    <tr>\n",
       "      <th>1274</th>\n",
       "      <td>[break, hoax, rape, lawsuit, trump, drop, trut...</td>\n",
       "      <td>1</td>\n",
       "    </tr>\n",
       "    <tr>\n",
       "      <th>1275</th>\n",
       "      <td>[alabama, top, judg, face, ethic, charg, gayma...</td>\n",
       "      <td>0</td>\n",
       "    </tr>\n",
       "  </tbody>\n",
       "</table>\n",
       "<p>1268 rows × 2 columns</p>\n",
       "</div>"
      ],
      "text/plain": [
       "                                                   tags  label\n",
       "0     [law, enforc, high, alert, follow, threat, cop...      1\n",
       "2     [unbeliev, obama, attorney, gener, say, charlo...      1\n",
       "3     [bobbi, jindal, rais, hindu, use, stori, chris...      0\n",
       "4     [satan, 2, russia, unv, imag, terrifi, new, su...      1\n",
       "5     [time, christian, group, sue, amazon, splc, de...      1\n",
       "...                                                 ...    ...\n",
       "1271  [, one, thing, scare, trump, racist, follow, v...      1\n",
       "1272  [u, airstrik, miss, isi, damag, u, polici, syr...      0\n",
       "1273  [jame, turk, donald, trump, face, differ, rona...      1\n",
       "1274  [break, hoax, rape, lawsuit, trump, drop, trut...      1\n",
       "1275  [alabama, top, judg, face, ethic, charg, gayma...      0\n",
       "\n",
       "[1268 rows x 2 columns]"
      ]
     },
     "execution_count": 15,
     "metadata": {},
     "output_type": "execute_result"
    }
   ],
   "source": [
    "data=data[['tags','label']]\n",
    "data"
   ]
  },
  {
   "cell_type": "markdown",
   "id": "07bd0205",
   "metadata": {},
   "source": [
    "#### TF-iDF Vectorizer"
   ]
  },
  {
   "cell_type": "code",
   "execution_count": 16,
   "id": "d918ff1c",
   "metadata": {},
   "outputs": [],
   "source": [
    "from sklearn.feature_extraction.text import TfidfVectorizer\n",
    "tfidf_vect = TfidfVectorizer(analyzer=clean_text)\n",
    "X_tfidf = tfidf_vect.fit_transform(data['tags'].apply(lambda x: np.str_(x)))"
   ]
  },
  {
   "cell_type": "code",
   "execution_count": 17,
   "id": "ad77ef2b",
   "metadata": {},
   "outputs": [
    {
     "data": {
      "text/html": [
       "<div>\n",
       "<style scoped>\n",
       "    .dataframe tbody tr th:only-of-type {\n",
       "        vertical-align: middle;\n",
       "    }\n",
       "\n",
       "    .dataframe tbody tr th {\n",
       "        vertical-align: top;\n",
       "    }\n",
       "\n",
       "    .dataframe thead th {\n",
       "        text-align: right;\n",
       "    }\n",
       "</style>\n",
       "<table border=\"1\" class=\"dataframe\">\n",
       "  <thead>\n",
       "    <tr style=\"text-align: right;\">\n",
       "      <th></th>\n",
       "      <th>0</th>\n",
       "      <th>1</th>\n",
       "      <th>2</th>\n",
       "      <th>3</th>\n",
       "      <th>4</th>\n",
       "      <th>5</th>\n",
       "      <th>6</th>\n",
       "      <th>7</th>\n",
       "      <th>8</th>\n",
       "      <th>9</th>\n",
       "      <th>...</th>\n",
       "      <th>28328</th>\n",
       "      <th>28329</th>\n",
       "      <th>28330</th>\n",
       "      <th>28331</th>\n",
       "      <th>28332</th>\n",
       "      <th>28333</th>\n",
       "      <th>28334</th>\n",
       "      <th>28335</th>\n",
       "      <th>28336</th>\n",
       "      <th>28337</th>\n",
       "    </tr>\n",
       "  </thead>\n",
       "  <tbody>\n",
       "    <tr>\n",
       "      <th>0</th>\n",
       "      <td>0.000000</td>\n",
       "      <td>0.0</td>\n",
       "      <td>0.0</td>\n",
       "      <td>0.0</td>\n",
       "      <td>0.0</td>\n",
       "      <td>0.0</td>\n",
       "      <td>0.0</td>\n",
       "      <td>0.0</td>\n",
       "      <td>0.0</td>\n",
       "      <td>0.0</td>\n",
       "      <td>...</td>\n",
       "      <td>0.0</td>\n",
       "      <td>0.0</td>\n",
       "      <td>0.0</td>\n",
       "      <td>0.0</td>\n",
       "      <td>0.0</td>\n",
       "      <td>0.0</td>\n",
       "      <td>0.0</td>\n",
       "      <td>0.0</td>\n",
       "      <td>0.0</td>\n",
       "      <td>0.0</td>\n",
       "    </tr>\n",
       "    <tr>\n",
       "      <th>1</th>\n",
       "      <td>0.000000</td>\n",
       "      <td>0.0</td>\n",
       "      <td>0.0</td>\n",
       "      <td>0.0</td>\n",
       "      <td>0.0</td>\n",
       "      <td>0.0</td>\n",
       "      <td>0.0</td>\n",
       "      <td>0.0</td>\n",
       "      <td>0.0</td>\n",
       "      <td>0.0</td>\n",
       "      <td>...</td>\n",
       "      <td>0.0</td>\n",
       "      <td>0.0</td>\n",
       "      <td>0.0</td>\n",
       "      <td>0.0</td>\n",
       "      <td>0.0</td>\n",
       "      <td>0.0</td>\n",
       "      <td>0.0</td>\n",
       "      <td>0.0</td>\n",
       "      <td>0.0</td>\n",
       "      <td>0.0</td>\n",
       "    </tr>\n",
       "    <tr>\n",
       "      <th>2</th>\n",
       "      <td>0.005814</td>\n",
       "      <td>0.0</td>\n",
       "      <td>0.0</td>\n",
       "      <td>0.0</td>\n",
       "      <td>0.0</td>\n",
       "      <td>0.0</td>\n",
       "      <td>0.0</td>\n",
       "      <td>0.0</td>\n",
       "      <td>0.0</td>\n",
       "      <td>0.0</td>\n",
       "      <td>...</td>\n",
       "      <td>0.0</td>\n",
       "      <td>0.0</td>\n",
       "      <td>0.0</td>\n",
       "      <td>0.0</td>\n",
       "      <td>0.0</td>\n",
       "      <td>0.0</td>\n",
       "      <td>0.0</td>\n",
       "      <td>0.0</td>\n",
       "      <td>0.0</td>\n",
       "      <td>0.0</td>\n",
       "    </tr>\n",
       "    <tr>\n",
       "      <th>3</th>\n",
       "      <td>0.000000</td>\n",
       "      <td>0.0</td>\n",
       "      <td>0.0</td>\n",
       "      <td>0.0</td>\n",
       "      <td>0.0</td>\n",
       "      <td>0.0</td>\n",
       "      <td>0.0</td>\n",
       "      <td>0.0</td>\n",
       "      <td>0.0</td>\n",
       "      <td>0.0</td>\n",
       "      <td>...</td>\n",
       "      <td>0.0</td>\n",
       "      <td>0.0</td>\n",
       "      <td>0.0</td>\n",
       "      <td>0.0</td>\n",
       "      <td>0.0</td>\n",
       "      <td>0.0</td>\n",
       "      <td>0.0</td>\n",
       "      <td>0.0</td>\n",
       "      <td>0.0</td>\n",
       "      <td>0.0</td>\n",
       "    </tr>\n",
       "    <tr>\n",
       "      <th>4</th>\n",
       "      <td>0.000000</td>\n",
       "      <td>0.0</td>\n",
       "      <td>0.0</td>\n",
       "      <td>0.0</td>\n",
       "      <td>0.0</td>\n",
       "      <td>0.0</td>\n",
       "      <td>0.0</td>\n",
       "      <td>0.0</td>\n",
       "      <td>0.0</td>\n",
       "      <td>0.0</td>\n",
       "      <td>...</td>\n",
       "      <td>0.0</td>\n",
       "      <td>0.0</td>\n",
       "      <td>0.0</td>\n",
       "      <td>0.0</td>\n",
       "      <td>0.0</td>\n",
       "      <td>0.0</td>\n",
       "      <td>0.0</td>\n",
       "      <td>0.0</td>\n",
       "      <td>0.0</td>\n",
       "      <td>0.0</td>\n",
       "    </tr>\n",
       "  </tbody>\n",
       "</table>\n",
       "<p>5 rows × 28338 columns</p>\n",
       "</div>"
      ],
      "text/plain": [
       "      0      1      2      3      4      5      6      7      8      9      \\\n",
       "0  0.000000    0.0    0.0    0.0    0.0    0.0    0.0    0.0    0.0    0.0   \n",
       "1  0.000000    0.0    0.0    0.0    0.0    0.0    0.0    0.0    0.0    0.0   \n",
       "2  0.005814    0.0    0.0    0.0    0.0    0.0    0.0    0.0    0.0    0.0   \n",
       "3  0.000000    0.0    0.0    0.0    0.0    0.0    0.0    0.0    0.0    0.0   \n",
       "4  0.000000    0.0    0.0    0.0    0.0    0.0    0.0    0.0    0.0    0.0   \n",
       "\n",
       "   ...  28328  28329  28330  28331  28332  28333  28334  28335  28336  28337  \n",
       "0  ...    0.0    0.0    0.0    0.0    0.0    0.0    0.0    0.0    0.0    0.0  \n",
       "1  ...    0.0    0.0    0.0    0.0    0.0    0.0    0.0    0.0    0.0    0.0  \n",
       "2  ...    0.0    0.0    0.0    0.0    0.0    0.0    0.0    0.0    0.0    0.0  \n",
       "3  ...    0.0    0.0    0.0    0.0    0.0    0.0    0.0    0.0    0.0    0.0  \n",
       "4  ...    0.0    0.0    0.0    0.0    0.0    0.0    0.0    0.0    0.0    0.0  \n",
       "\n",
       "[5 rows x 28338 columns]"
      ]
     },
     "execution_count": 17,
     "metadata": {},
     "output_type": "execute_result"
    }
   ],
   "source": [
    "X =  pd.DataFrame(X_tfidf.toarray())\n",
    "X.head()"
   ]
  },
  {
   "cell_type": "code",
   "execution_count": 18,
   "id": "15833e7b",
   "metadata": {},
   "outputs": [
    {
     "data": {
      "text/plain": [
       "0    1\n",
       "2    1\n",
       "3    0\n",
       "4    1\n",
       "5    1\n",
       "Name: label, dtype: int64"
      ]
     },
     "execution_count": 18,
     "metadata": {},
     "output_type": "execute_result"
    }
   ],
   "source": [
    "Y = data['label']\n",
    "Y.head()"
   ]
  },
  {
   "cell_type": "code",
   "execution_count": 19,
   "id": "d6fcedb7",
   "metadata": {},
   "outputs": [
    {
     "data": {
      "text/plain": [
       "((1268,), (1268, 28338))"
      ]
     },
     "execution_count": 19,
     "metadata": {},
     "output_type": "execute_result"
    }
   ],
   "source": [
    "data['label'].shape , X.shape"
   ]
  },
  {
   "cell_type": "markdown",
   "id": "3c5f6dcf",
   "metadata": {},
   "source": [
    "### Train-Test Spliting of data"
   ]
  },
  {
   "cell_type": "code",
   "execution_count": 20,
   "id": "7068dbf9",
   "metadata": {},
   "outputs": [],
   "source": [
    "from sklearn.metrics import precision_recall_fscore_support as score\n",
    "from sklearn.model_selection import train_test_split\n",
    "X_train, X_test, y_train, y_test = train_test_split(X, Y, test_size=0.2)"
   ]
  },
  {
   "cell_type": "markdown",
   "id": "8194fa0d",
   "metadata": {},
   "source": [
    "### Random Forest Classification"
   ]
  },
  {
   "cell_type": "code",
   "execution_count": 21,
   "id": "5858c041",
   "metadata": {},
   "outputs": [],
   "source": [
    "from sklearn.ensemble import RandomForestClassifier\n",
    "rf = RandomForestClassifier(n_estimators=50, max_depth=20, n_jobs=-1)\n",
    "\n",
    "rf_model = rf.fit(X_train, y_train)"
   ]
  },
  {
   "cell_type": "code",
   "execution_count": 22,
   "id": "c54fb9d3",
   "metadata": {},
   "outputs": [
    {
     "data": {
      "text/html": [
       "<div>\n",
       "<style scoped>\n",
       "    .dataframe tbody tr th:only-of-type {\n",
       "        vertical-align: middle;\n",
       "    }\n",
       "\n",
       "    .dataframe tbody tr th {\n",
       "        vertical-align: top;\n",
       "    }\n",
       "\n",
       "    .dataframe thead th {\n",
       "        text-align: right;\n",
       "    }\n",
       "</style>\n",
       "<table border=\"1\" class=\"dataframe\">\n",
       "  <thead>\n",
       "    <tr style=\"text-align: right;\">\n",
       "      <th></th>\n",
       "      <th>predicted value</th>\n",
       "      <th>actual value</th>\n",
       "    </tr>\n",
       "  </thead>\n",
       "  <tbody>\n",
       "    <tr>\n",
       "      <th>1154</th>\n",
       "      <td>0</td>\n",
       "      <td>0</td>\n",
       "    </tr>\n",
       "    <tr>\n",
       "      <th>39</th>\n",
       "      <td>1</td>\n",
       "      <td>1</td>\n",
       "    </tr>\n",
       "    <tr>\n",
       "      <th>1096</th>\n",
       "      <td>0</td>\n",
       "      <td>0</td>\n",
       "    </tr>\n",
       "    <tr>\n",
       "      <th>1147</th>\n",
       "      <td>0</td>\n",
       "      <td>0</td>\n",
       "    </tr>\n",
       "    <tr>\n",
       "      <th>902</th>\n",
       "      <td>0</td>\n",
       "      <td>0</td>\n",
       "    </tr>\n",
       "    <tr>\n",
       "      <th>...</th>\n",
       "      <td>...</td>\n",
       "      <td>...</td>\n",
       "    </tr>\n",
       "    <tr>\n",
       "      <th>393</th>\n",
       "      <td>0</td>\n",
       "      <td>0</td>\n",
       "    </tr>\n",
       "    <tr>\n",
       "      <th>6</th>\n",
       "      <td>1</td>\n",
       "      <td>1</td>\n",
       "    </tr>\n",
       "    <tr>\n",
       "      <th>769</th>\n",
       "      <td>1</td>\n",
       "      <td>1</td>\n",
       "    </tr>\n",
       "    <tr>\n",
       "      <th>455</th>\n",
       "      <td>0</td>\n",
       "      <td>0</td>\n",
       "    </tr>\n",
       "    <tr>\n",
       "      <th>141</th>\n",
       "      <td>0</td>\n",
       "      <td>0</td>\n",
       "    </tr>\n",
       "  </tbody>\n",
       "</table>\n",
       "<p>254 rows × 2 columns</p>\n",
       "</div>"
      ],
      "text/plain": [
       "      predicted value  actual value\n",
       "1154                0             0\n",
       "39                  1             1\n",
       "1096                0             0\n",
       "1147                0             0\n",
       "902                 0             0\n",
       "...               ...           ...\n",
       "393                 0             0\n",
       "6                   1             1\n",
       "769                 1             1\n",
       "455                 0             0\n",
       "141                 0             0\n",
       "\n",
       "[254 rows x 2 columns]"
      ]
     },
     "execution_count": 22,
     "metadata": {},
     "output_type": "execute_result"
    }
   ],
   "source": [
    "from sklearn.metrics import classification_report, confusion_matrix\n",
    "y_pred = rf_model.predict(X_test)\n",
    "pd.DataFrame(data={'predicted value':y_pred,'actual value':y_test})"
   ]
  },
  {
   "cell_type": "code",
   "execution_count": 23,
   "id": "8ed8a776",
   "metadata": {},
   "outputs": [
    {
     "name": "stdout",
     "output_type": "stream",
     "text": [
      "Classification Report for Random Forest Classifier \n",
      "               precision    recall  f1-score   support\n",
      "\n",
      "           0       0.90      0.82      0.86       124\n",
      "           1       0.84      0.92      0.88       130\n",
      "\n",
      "    accuracy                           0.87       254\n",
      "   macro avg       0.87      0.87      0.87       254\n",
      "weighted avg       0.87      0.87      0.87       254\n",
      "\n"
     ]
    }
   ],
   "source": [
    "print('Classification Report for Random Forest Classifier \\n',classification_report(y_test, y_pred))"
   ]
  },
  {
   "cell_type": "code",
   "execution_count": 24,
   "id": "0adce028",
   "metadata": {},
   "outputs": [
    {
     "name": "stdout",
     "output_type": "stream",
     "text": [
      "Confusion Matrix for Random Forest Classifier\n"
     ]
    },
    {
     "data": {
      "image/png": "[encoded data removed]",
      "text/plain": [
       "<Figure size 432x288 with 2 Axes>"
      ]
     },
     "metadata": {
      "needs_background": "light"
     },
     "output_type": "display_data"
    }
   ],
   "source": [
    "cm = confusion_matrix(y_test, y_pred, labels = [0,1])\n",
    "print('Confusion Matrix for Random Forest Classifier')\n",
    "ax = plt.subplot()\n",
    "sns.set(font_scale=3.0) # Adjust to fit\n",
    "sns.heatmap(cm, annot=True, ax=ax, cmap=\"Blues\", fmt=\"g\");  \n",
    "\n",
    "# Labels, title and ticks\n",
    "label_font = {'size':'18'}  # Adjust to fit\n",
    "ax.set_xlabel('Predicted labels', fontdict=label_font);\n",
    "ax.set_ylabel('True labels', fontdict=label_font);\n",
    "\n",
    "title_font = {'size':'21'}  # Adjust to fit\n",
    "ax.set_title('Random Forest', fontdict=title_font);\n",
    "ax.tick_params(axis='both', which='major', labelsize=10)  # Adjust to fit\n",
    "ax.xaxis.set_ticklabels(['Fake', 'Real']);\n",
    "ax.yaxis.set_ticklabels(['Fake', 'real']);\n",
    "plt.show()"
   ]
  },
  {
   "cell_type": "markdown",
   "id": "9a4f4fdc",
   "metadata": {},
   "source": [
    "### Gradient Boosting Classification"
   ]
  },
  {
   "cell_type": "code",
   "execution_count": 25,
   "id": "a9342ac6",
   "metadata": {},
   "outputs": [
    {
     "data": {
      "text/html": [
       "<div>\n",
       "<style scoped>\n",
       "    .dataframe tbody tr th:only-of-type {\n",
       "        vertical-align: middle;\n",
       "    }\n",
       "\n",
       "    .dataframe tbody tr th {\n",
       "        vertical-align: top;\n",
       "    }\n",
       "\n",
       "    .dataframe thead th {\n",
       "        text-align: right;\n",
       "    }\n",
       "</style>\n",
       "<table border=\"1\" class=\"dataframe\">\n",
       "  <thead>\n",
       "    <tr style=\"text-align: right;\">\n",
       "      <th></th>\n",
       "      <th>predicted value</th>\n",
       "      <th>actual value</th>\n",
       "    </tr>\n",
       "  </thead>\n",
       "  <tbody>\n",
       "    <tr>\n",
       "      <th>1154</th>\n",
       "      <td>0</td>\n",
       "      <td>0</td>\n",
       "    </tr>\n",
       "    <tr>\n",
       "      <th>39</th>\n",
       "      <td>1</td>\n",
       "      <td>1</td>\n",
       "    </tr>\n",
       "    <tr>\n",
       "      <th>1096</th>\n",
       "      <td>0</td>\n",
       "      <td>0</td>\n",
       "    </tr>\n",
       "    <tr>\n",
       "      <th>1147</th>\n",
       "      <td>0</td>\n",
       "      <td>0</td>\n",
       "    </tr>\n",
       "    <tr>\n",
       "      <th>902</th>\n",
       "      <td>0</td>\n",
       "      <td>0</td>\n",
       "    </tr>\n",
       "    <tr>\n",
       "      <th>...</th>\n",
       "      <td>...</td>\n",
       "      <td>...</td>\n",
       "    </tr>\n",
       "    <tr>\n",
       "      <th>393</th>\n",
       "      <td>0</td>\n",
       "      <td>0</td>\n",
       "    </tr>\n",
       "    <tr>\n",
       "      <th>6</th>\n",
       "      <td>1</td>\n",
       "      <td>1</td>\n",
       "    </tr>\n",
       "    <tr>\n",
       "      <th>769</th>\n",
       "      <td>1</td>\n",
       "      <td>1</td>\n",
       "    </tr>\n",
       "    <tr>\n",
       "      <th>455</th>\n",
       "      <td>0</td>\n",
       "      <td>0</td>\n",
       "    </tr>\n",
       "    <tr>\n",
       "      <th>141</th>\n",
       "      <td>0</td>\n",
       "      <td>0</td>\n",
       "    </tr>\n",
       "  </tbody>\n",
       "</table>\n",
       "<p>254 rows × 2 columns</p>\n",
       "</div>"
      ],
      "text/plain": [
       "      predicted value  actual value\n",
       "1154                0             0\n",
       "39                  1             1\n",
       "1096                0             0\n",
       "1147                0             0\n",
       "902                 0             0\n",
       "...               ...           ...\n",
       "393                 0             0\n",
       "6                   1             1\n",
       "769                 1             1\n",
       "455                 0             0\n",
       "141                 0             0\n",
       "\n",
       "[254 rows x 2 columns]"
      ]
     },
     "execution_count": 25,
     "metadata": {},
     "output_type": "execute_result"
    }
   ],
   "source": [
    "from sklearn.ensemble import GradientBoostingClassifier\n",
    "\n",
    "gbc = GradientBoostingClassifier(n_estimators=100, learning_rate=1.0, max_depth=1, random_state=0)\n",
    "gbc_model = gbc.fit(X, Y)\n",
    "y_pred = gbc_model.predict(X_test)\n",
    "\n",
    "pd.DataFrame(data={'predicted value':y_pred,'actual value':y_test})"
   ]
  },
  {
   "cell_type": "code",
   "execution_count": 26,
   "id": "2f814bbe",
   "metadata": {},
   "outputs": [
    {
     "name": "stdout",
     "output_type": "stream",
     "text": [
      "Classification Report for Gradient Boosting Classifier \n",
      "               precision    recall  f1-score   support\n",
      "\n",
      "           0       1.00      1.00      1.00       124\n",
      "           1       1.00      1.00      1.00       130\n",
      "\n",
      "    accuracy                           1.00       254\n",
      "   macro avg       1.00      1.00      1.00       254\n",
      "weighted avg       1.00      1.00      1.00       254\n",
      "\n"
     ]
    }
   ],
   "source": [
    "print('Classification Report for Gradient Boosting Classifier \\n',classification_report(y_test, y_pred))"
   ]
  },
  {
   "cell_type": "code",
   "execution_count": 27,
   "id": "cb774154",
   "metadata": {},
   "outputs": [
    {
     "name": "stdout",
     "output_type": "stream",
     "text": [
      "Confusion Matrix Gradient Boosting Classifier\n",
      "\n",
      "\n"
     ]
    },
    {
     "data": {
      "image/png": "[encoded data removed]",
      "text/plain": [
       "<Figure size 432x288 with 2 Axes>"
      ]
     },
     "metadata": {},
     "output_type": "display_data"
    }
   ],
   "source": [
    "cm = confusion_matrix(y_test, y_pred, labels = [0,1])\n",
    "\n",
    "print('Confusion Matrix Gradient Boosting Classifier')\n",
    "ax = plt.subplot()\n",
    "sns.set(font_scale=3.0) # Adjust to fit\n",
    "sns.heatmap(cm, annot=True, ax=ax, cmap=\"Blues\", fmt=\"g\");  \n",
    "\n",
    "# Labels, title and ticks\n",
    "label_font = {'size':'18'}  # Adjust to fit\n",
    "ax.set_xlabel('Predicted Labels', fontdict=label_font);\n",
    "ax.set_ylabel('True Labels', fontdict=label_font);\n",
    "\n",
    "title_font = {'size':'21'}  # Adjust to fit\n",
    "\n",
    "ax.set_title('Gradient Boosting', fontdict=title_font);\n",
    "print(\"\\n\")\n",
    "\n",
    "ax.tick_params(axis='both', which='major', labelsize=10)  # Adjust to fit\n",
    "ax.xaxis.set_ticklabels(['Fake', 'Real']);\n",
    "ax.yaxis.set_ticklabels(['Fake', 'Real']);\n",
    "plt.show()"
   ]
  },
  {
   "cell_type": "markdown",
   "id": "0168fcbf",
   "metadata": {},
   "source": [
    "#### Conclusion\n",
    "The precision, recall, f1-score and accuracy from  Gradient Boosting Classification Model is 100%. Thus, Gradient Boosting Classification Mode is the best model."
   ]
  }
 ],
 "metadata": {
  "kernelspec": {
   "display_name": "Python 3 (ipykernel)",
   "language": "python",
   "name": "python3"
  },
  "language_info": {
   "codemirror_mode": {
    "name": "ipython",
    "version": 3
   },
   "file_extension": ".py",
   "mimetype": "text/x-python",
   "name": "python",
   "nbconvert_exporter": "python",
   "pygments_lexer": "ipython3",
   "version": "3.9.12"
  }
 },
 "nbformat": 4,
 "nbformat_minor": 5
}
